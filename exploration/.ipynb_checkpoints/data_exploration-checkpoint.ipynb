{
 "cells": [
  {
   "cell_type": "markdown",
   "metadata": {},
   "source": [
    "<hr style='background-color: #fff; border-top: 2px dashed #8c8b8b;'>\n",
    "# Extract data from pdf"
   ]
  },
  {
   "cell_type": "markdown",
   "metadata": {},
   "source": [
    "### PDFMinder\n",
    "* `PDFMinder` does not extract correct white spaces for justified text\n",
    "<br><br>"
   ]
  },
  {
   "cell_type": "code",
   "execution_count": null,
   "metadata": {
    "collapsed": false
   },
   "outputs": [],
   "source": [
    "# %%writefile ../code/read_pdf.py\n",
    "from cStringIO import StringIO\n",
    "from pdfminer.pdfinterp import PDFResourceManager, PDFPageInterpreter\n",
    "from pdfminer.converter import TextConverter\n",
    "from pdfminer.layout import LAParams\n",
    "from pdfminer.pdfpage import PDFPage\n",
    "\n",
    "def read_pdf(fname, pages=None, encoding='ISO-8859-1'):\n",
    "    if not pages:\n",
    "        pagenums = set()\n",
    "    else:\n",
    "        pagenums = set(pages)\n",
    "\n",
    "    output = StringIO()\n",
    "    manager = PDFResourceManager()\n",
    "    converter = TextConverter(manager, output, codec=encoding, laparams=LAParams())\n",
    "    interpreter = PDFPageInterpreter(manager, converter)\n",
    "\n",
    "    infile = file(fname, 'rb')\n",
    "    for page in PDFPage.get_pages(infile, pagenums):\n",
    "        interpreter.process_page(page)\n",
    "    infile.close()\n",
    "    converter.close()\n",
    "    text = output.getvalue()\n",
    "    output.close\n",
    "    return text\n",
    "\n",
    "\n",
    "\n",
    "# if __name__ == \"__main__\":\n",
    "    \n",
    "#     doc = read_pdf('../raw data/satoshi/bitcoin.pdf')\n",
    "#     pure_ascii = doc.decode('ISO-8859-1').encode('ascii', 'ignore')"
   ]
  },
  {
   "cell_type": "code",
   "execution_count": null,
   "metadata": {
    "collapsed": true
   },
   "outputs": [],
   "source": [
    "doc = read_pdf('../raw data/satoshi/bitcoin.pdf')\n",
    "print doc"
   ]
  },
  {
   "cell_type": "markdown",
   "metadata": {},
   "source": [
    "### Textract\n",
    "* default = `pdftotext` is installed; otherwise default = pure python fallback\n",
    "* `Textract` with `pdftotext` + `layout=True` is introduces predictable spaces which can then be removed\n",
    "<br><br>"
   ]
  },
  {
   "cell_type": "code",
   "execution_count": null,
   "metadata": {
    "collapsed": true
   },
   "outputs": [],
   "source": [
    "import textract"
   ]
  },
  {
   "cell_type": "code",
   "execution_count": null,
   "metadata": {
    "collapsed": false
   },
   "outputs": [],
   "source": [
    "doc = textract.process('../data/satoshi/bitcoin.pdf', \n",
    "                       method='pdftotext', layout=True,    # default method\n",
    "                       encoding='ascii')                   # output encoding; input encoding is inferred\n",
    "\n",
    "print doc"
   ]
  },
  {
   "cell_type": "markdown",
   "metadata": {},
   "source": [
    "<hr style='background-color: #fff; border-top: 2px dashed #8c8b8b;'>\n",
    "# Remove artifacts and store in database\n",
    "Turn on MongoDB server: `$ sudo mongod`\n",
    "<br>"
   ]
  },
  {
   "cell_type": "code",
   "execution_count": null,
   "metadata": {
    "collapsed": true
   },
   "outputs": [],
   "source": [
    "from pymongo import MongoClient"
   ]
  },
  {
   "cell_type": "code",
   "execution_count": null,
   "metadata": {
    "collapsed": true
   },
   "outputs": [],
   "source": [
    "client = MongoClient()\n",
    "db = client['satoshi']        # Access/instantiate database"
   ]
  },
  {
   "cell_type": "code",
   "execution_count": null,
   "metadata": {
    "collapsed": false
   },
   "outputs": [],
   "source": [
    "# remove extra spaces from justified text alignment\n",
    "doc = doc.replace('\\n         ', '\\n')\n",
    "\n",
    "# remove white spaces leading/trailing a sentence -- leftover from pdf layout\n",
    "# drop empty sentences and sentences with too many white characters in it (most likely text from flowcharts)\n",
    "sentences = [sentence.strip() \\\n",
    "             for sentence in doc.split('\\n') if sentence and \\\n",
    "                                                float(sentence.count(' '))/len(sentence) < 0.2]\n",
    "# drop references\n",
    "sentences = sentences[:sentences.index('References')]"
   ]
  },
  {
   "cell_type": "code",
   "execution_count": null,
   "metadata": {
    "collapsed": false
   },
   "outputs": [],
   "source": [
    "tbl = db['clean-bitcoin-white-paper']\n",
    "tbl.insert_one( { 'date': '2008-11-01 19:16:33 UTC',    # use date from satoshi's first public announcement\n",
    "                  'content': sentences })"
   ]
  },
  {
   "cell_type": "markdown",
   "metadata": {},
   "source": [
    "### Double check:\n",
    "\n",
    "In Mongo shell `$ mongo`:\n",
    "\n",
    "```\n",
    "use satoshi\n",
    "show collections\n",
    "db.getCollection('clean-bitcoin-white-paper').count()\n",
    "db.getCollection('clean-bitcoin-white-paper').find()\n",
    "```\n",
    "\n",
    "### Backup database:\n",
    "\n",
    "In Terminal, cd to `data/satoshi/`, then `$ mongodump -d satoshi -o ./mongodump`"
   ]
  },
  {
   "cell_type": "code",
   "execution_count": null,
   "metadata": {
    "collapsed": true
   },
   "outputs": [],
   "source": []
  }
 ],
 "metadata": {
  "kernelspec": {
   "display_name": "Python 2",
   "language": "python",
   "name": "python2"
  },
  "language_info": {
   "codemirror_mode": {
    "name": "ipython",
    "version": 2
   },
   "file_extension": ".py",
   "mimetype": "text/x-python",
   "name": "python",
   "nbconvert_exporter": "python",
   "pygments_lexer": "ipython2",
   "version": "2.7.11"
  }
 },
 "nbformat": 4,
 "nbformat_minor": 0
}
