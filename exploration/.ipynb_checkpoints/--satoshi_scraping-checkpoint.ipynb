{
 "cells": [
  {
   "cell_type": "code",
   "execution_count": null,
   "metadata": {
    "collapsed": true
   },
   "outputs": [],
   "source": [
    "from pymongo import MongoClient\n",
    "import requests\n",
    "from bs4 import BeautifulSoup, NavigableString\n",
    "import HTMLParser\n",
    "from collections import Counter"
   ]
  },
  {
   "cell_type": "markdown",
   "metadata": {},
   "source": [
    "(converted to `web-scrape.py`)"
   ]
  },
  {
   "cell_type": "markdown",
   "metadata": {},
   "source": [
    "<hr style='background-color: #fff; border-top: 2px dashed #8c8b8b;'>\n",
    "# Create/access database\n",
    "<br><br>"
   ]
  },
  {
   "cell_type": "markdown",
   "metadata": {},
   "source": [
    "<hr style='background-color: #fff; border-top: 2px dashed #8c8b8b;'>\n",
    "# Get a list of urls\n",
    "<br>"
   ]
  },
  {
   "cell_type": "markdown",
   "metadata": {},
   "source": [
    "<hr style='background-color: #fff; border-top: 2px dashed #8c8b8b;'>\n",
    "# Store all raw html in MongoDB first\n",
    "<br>"
   ]
  },
  {
   "cell_type": "markdown",
   "metadata": {
    "collapsed": true
   },
   "source": [
    "## Double check:\n",
    "\n",
    "Check in Mongo shell: `$ mongo`\n",
    "\n",
    "```\n",
    "show dbs\n",
    "use satoshi\n",
    "\n",
    "show collections\n",
    "tbl = db.getCollection('satoshi-web')\n",
    "tbl.find( { 'type': { $eq: 'email' } } ).count()\n",
    "tbl.find( { 'type': { $eq: 'forum' } } ).count()\n",
    "```\n",
    "<br>\n",
    "Doc count:\n",
    "\n",
    "    No. of e-mails \t18\n",
    "    No. of posts   \t543\n",
    "    -------------------\n",
    "    Total          \t561"
   ]
  },
  {
   "cell_type": "markdown",
   "metadata": {},
   "source": [
    "<hr style='background-color: #fff; border-top: 2px dashed #8c8b8b;'>\n",
    "# Extract Docs\n",
    "* `html_parser` removes html special characters e.g. `&amps;`\n",
    "* `encode('ascii')` removes unicode characters e.g. `\\xe02`\n",
    "<br><br>"
   ]
  },
  {
   "cell_type": "markdown",
   "metadata": {},
   "source": [
    "## E-mails"
   ]
  },
  {
   "cell_type": "markdown",
   "metadata": {
    "collapsed": true
   },
   "source": [
    "[36, 21, 25, 9, 20, 43, 27, 18, 11, 25, 37, 26, 52, 45, 24, 51, 30, 24]"
   ]
  },
  {
   "cell_type": "markdown",
   "metadata": {},
   "source": [
    "## Forum Posts\n",
    "* too few posts from P2P Foundation so lump all into same document type\n",
    "<br>"
   ]
  },
  {
   "cell_type": "markdown",
   "metadata": {},
   "source": [
    "## Check:\n",
    "Post count:<br>\n",
    "* P2P Foundation: 4\n",
    "* Bitcointalk: 535\n",
    "* Repost: 4"
   ]
  }
 ],
 "metadata": {
  "kernelspec": {
   "display_name": "Python 2",
   "language": "python",
   "name": "python2"
  },
  "language_info": {
   "codemirror_mode": {
    "name": "ipython",
    "version": 2
   },
   "file_extension": ".py",
   "mimetype": "text/x-python",
   "name": "python",
   "nbconvert_exporter": "python",
   "pygments_lexer": "ipython2",
   "version": "2.7.11"
  }
 },
 "nbformat": 4,
 "nbformat_minor": 0
}
