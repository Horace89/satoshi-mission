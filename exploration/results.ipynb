{
 "cells": [
  {
   "cell_type": "code",
   "execution_count": null,
   "metadata": {
    "collapsed": false
   },
   "outputs": [],
   "source": [
    "from __future__ import division  # no need to worry about interger division\n",
    "\n",
    "from pymongo import MongoClient\n",
    "import psycopg2 as pg2\n",
    "import json\n",
    "\n",
    "from pandas.io.sql import read_sql\n",
    "import pandas as pd\n",
    "import numpy as np\n",
    "\n",
    "from itertools import chain, izip\n",
    "\n",
    "import matplotlib.pylab as plt\n",
    "import seaborn as sns\n",
    "\n",
    "%matplotlib inline"
   ]
  },
  {
   "cell_type": "code",
   "execution_count": null,
   "metadata": {
    "collapsed": false
   },
   "outputs": [],
   "source": [
    "sns.set(font='DIN Condensed', style='white')"
   ]
  },
  {
   "cell_type": "markdown",
   "metadata": {},
   "source": [
    "# Load Data"
   ]
  },
  {
   "cell_type": "code",
   "execution_count": null,
   "metadata": {
    "collapsed": true
   },
   "outputs": [],
   "source": [
    "with open('../../auth/postgres/postgres.json', 'r') as f:\n",
    "    PGCONN = json.load(f)\n",
    "    \n",
    "with open('../.dbname', 'r') as f:\n",
    "    PGCONN['dbname'] = json.load(f)['dbname']"
   ]
  },
  {
   "cell_type": "code",
   "execution_count": null,
   "metadata": {
    "collapsed": false
   },
   "outputs": [],
   "source": [
    "conn = pg2.connect(**PGCONN)\n",
    "\n",
    "q = '''\n",
    "    SELECT * FROM results_2class;\n",
    "    '''\n",
    "\n",
    "df = read_sql(q, conn)\n",
    "\n",
    "conn.close()"
   ]
  },
  {
   "cell_type": "code",
   "execution_count": null,
   "metadata": {
    "collapsed": false
   },
   "outputs": [],
   "source": [
    "df.shape"
   ]
  },
  {
   "cell_type": "code",
   "execution_count": null,
   "metadata": {
    "collapsed": false
   },
   "outputs": [],
   "source": [
    "df.head()"
   ]
  },
  {
   "cell_type": "code",
   "execution_count": null,
   "metadata": {
    "collapsed": false
   },
   "outputs": [],
   "source": [
    "print df['und_err'].unique()   # see if ran into UndefinedMetricsError"
   ]
  },
  {
   "cell_type": "code",
   "execution_count": null,
   "metadata": {
    "collapsed": false
   },
   "outputs": [],
   "source": [
    "# drop recall, f1, accuracy, avg_prec; currently only used to validate tp, fp, tn, fn\n",
    "df.drop(['und_err', 'bs', 'recall', 'f1', 'accuracy', 'avg_prec'], axis=1, inplace=True)  "
   ]
  },
  {
   "cell_type": "code",
   "execution_count": null,
   "metadata": {
    "collapsed": true
   },
   "outputs": [],
   "source": [
    "# must convert list columns to strings otherwise run into error when summing each group\n",
    "df['wts1'] = df['wts1'].astype(str)\n",
    "df['wts2'] = df['wts2'].astype(str)"
   ]
  },
  {
   "cell_type": "code",
   "execution_count": null,
   "metadata": {
    "collapsed": false
   },
   "outputs": [],
   "source": [
    "df_grp = df.groupby(['author1', 'author2', 'wts1', 'wts2'])"
   ]
  },
  {
   "cell_type": "code",
   "execution_count": null,
   "metadata": {
    "collapsed": false
   },
   "outputs": [],
   "source": [
    "CM_sum = df_grp[['tp','fp','tn','fn']].sum()\n",
    "CM_sum"
   ]
  },
  {
   "cell_type": "code",
   "execution_count": null,
   "metadata": {
    "collapsed": false
   },
   "outputs": [],
   "source": [
    "df_pdiff = df_grp[['pdiff_mean', 'pdiff_std']].mean()\n",
    "df_pdiff['pdiff_se'] = df_pdiff['pdiff_std'] / np.sqrt(CM_sum.sum(axis=1))\n",
    "df_pdiff"
   ]
  },
  {
   "cell_type": "code",
   "execution_count": null,
   "metadata": {
    "collapsed": false
   },
   "outputs": [],
   "source": [
    "conn = pg2.connect(**PGCONN)\n",
    "\n",
    "q = '''\n",
    "    SELECT * FROM probabilities;\n",
    "    '''\n",
    "\n",
    "df2 = read_sql(q, conn)\n",
    "\n",
    "conn.close()"
   ]
  },
  {
   "cell_type": "code",
   "execution_count": null,
   "metadata": {
    "collapsed": false
   },
   "outputs": [],
   "source": [
    "df2.head()"
   ]
  },
  {
   "cell_type": "code",
   "execution_count": null,
   "metadata": {
    "collapsed": true
   },
   "outputs": [],
   "source": [
    "# must convert list columns to strings otherwise run into error when summing each group\n",
    "df2['wts1'] = df2['wts1'].astype(str)\n",
    "df2['wts2'] = df2['wts2'].astype(str)"
   ]
  },
  {
   "cell_type": "code",
   "execution_count": null,
   "metadata": {
    "collapsed": true
   },
   "outputs": [],
   "source": [
    "df2_grp = df2.groupby(['author1', 'author2', 'wts1', 'wts2'])"
   ]
  },
  {
   "cell_type": "code",
   "execution_count": null,
   "metadata": {
    "collapsed": false
   },
   "outputs": [],
   "source": [
    "for key, grp in df2_grp:\n",
    "    print key"
   ]
  },
  {
   "cell_type": "code",
   "execution_count": null,
   "metadata": {
    "collapsed": false
   },
   "outputs": [],
   "source": [
    "dfA = df2_grp.get_group(('martin', 'martin', \"['a1novel']\", \"['a2novel']\"))"
   ]
  },
  {
   "cell_type": "code",
   "execution_count": null,
   "metadata": {
    "collapsed": true
   },
   "outputs": [],
   "source": [
    "color1 = np.array([104,132,155])/255\n",
    "color2 = np.array([153,153,153])/255\n",
    "color3 = np.array([250,248,243])/255"
   ]
  },
  {
   "cell_type": "code",
   "execution_count": null,
   "metadata": {
    "collapsed": false
   },
   "outputs": [],
   "source": [
    "fig = plt.figure(figsize=(8,6), facecolor='black')\n",
    "ax = fig.add_subplot(111)\n",
    "\n",
    "plt.hold(True)\n",
    "ax.hist(dfA['case_0'], bins=6, alpha=1, color=color2, linewidth=0)\n",
    "ax.hist(dfA['ctrl_1'], bins=6, alpha=0.7, color=color2, linewidth=0)\n",
    "plt.hold(False)\n",
    "\n",
    "ax.set_xlim(0,1)\n",
    "ax.set_axis_off()\n",
    "\n",
    "\n",
    "plt.show()"
   ]
  },
  {
   "cell_type": "code",
   "execution_count": null,
   "metadata": {
    "collapsed": false
   },
   "outputs": [],
   "source": [
    "dfA.loc[:,'odds'] = (dfA[['case_0', 'ctrl_1']].max(axis=1) / dfA[['case_0', 'ctrl_1']].min(axis=1)).values"
   ]
  },
  {
   "cell_type": "code",
   "execution_count": null,
   "metadata": {
    "collapsed": false
   },
   "outputs": [],
   "source": [
    "np.log(np.mean(dfA.groupby('fold')['odds'].mean()))"
   ]
  },
  {
   "cell_type": "code",
   "execution_count": null,
   "metadata": {
    "collapsed": false
   },
   "outputs": [],
   "source": [
    "dfB = df2_grp.get_group(('martin', 'antonopoulos', \"['a1novel']\", \"['abook']\"))\n",
    "dfB.loc[:,'odds'] = (dfB[['case_0', 'ctrl_1']].max(axis=1) / dfB[['case_0', 'ctrl_1']].min(axis=1)).values\n",
    "np.log(np.mean(dfB.groupby('fold')['odds'].mean()))"
   ]
  },
  {
   "cell_type": "code",
   "execution_count": null,
   "metadata": {
    "collapsed": false
   },
   "outputs": [],
   "source": [
    "fig = plt.figure(figsize=(8,6), facecolor='black')\n",
    "ax = fig.add_subplot(111)\n",
    "\n",
    "plt.hold(True)\n",
    "ax.hist(dfB['case_0'], bins=12, alpha=1, color=color1, linewidth=0)\n",
    "ax.hist(dfB['ctrl_1'], bins=12, alpha=0.7, color=color1, linewidth=0)\n",
    "plt.hold(False)\n",
    "\n",
    "ax.set_xlim(0,1)\n",
    "ax.set_axis_off()\n",
    "\n",
    "plt.show()"
   ]
  },
  {
   "cell_type": "markdown",
   "metadata": {},
   "source": [
    "# Test DataFrame/Colours"
   ]
  },
  {
   "cell_type": "code",
   "execution_count": null,
   "metadata": {
    "collapsed": false
   },
   "outputs": [],
   "source": [
    "CM_sum2 = CM_sum.T"
   ]
  },
  {
   "cell_type": "code",
   "execution_count": null,
   "metadata": {
    "collapsed": false
   },
   "outputs": [],
   "source": [
    "CM_test = CM_sum2[[('martin',       'martin',       \"['a1novel']\", \"['a2novel']\"), \n",
    "                   ('martin',       'antonopoulos', \"['a1novel']\", \"['abook']\"  ),\n",
    "                   ('antonopoulos', 'antonopoulos', \"['abook']\",   \"['cbook']\"  )]].T\n",
    "CM_test"
   ]
  },
  {
   "cell_type": "code",
   "execution_count": null,
   "metadata": {
    "collapsed": false
   },
   "outputs": [],
   "source": [
    "CM_test"
   ]
  },
  {
   "cell_type": "code",
   "execution_count": null,
   "metadata": {
    "collapsed": false
   },
   "outputs": [],
   "source": [
    "df_one = CM_sum.loc['satoshi',:].loc['cervera',:]"
   ]
  },
  {
   "cell_type": "code",
   "execution_count": null,
   "metadata": {
    "collapsed": false
   },
   "outputs": [],
   "source": [
    "(df_one['fp']) / (df_one['fp'] + df_one['tn'])"
   ]
  },
  {
   "cell_type": "code",
   "execution_count": null,
   "metadata": {
    "collapsed": false
   },
   "outputs": [],
   "source": [
    "sns.choose_colorbrewer_palette('qualitative')"
   ]
  },
  {
   "cell_type": "code",
   "execution_count": null,
   "metadata": {
    "collapsed": false
   },
   "outputs": [],
   "source": [
    "sns.__version__"
   ]
  }
 ],
 "metadata": {
  "kernelspec": {
   "display_name": "Python 2",
   "language": "python",
   "name": "python2"
  },
  "language_info": {
   "codemirror_mode": {
    "name": "ipython",
    "version": 2
   },
   "file_extension": ".py",
   "mimetype": "text/x-python",
   "name": "python",
   "nbconvert_exporter": "python",
   "pygments_lexer": "ipython2",
   "version": "2.7.11"
  }
 },
 "nbformat": 4,
 "nbformat_minor": 0
}
